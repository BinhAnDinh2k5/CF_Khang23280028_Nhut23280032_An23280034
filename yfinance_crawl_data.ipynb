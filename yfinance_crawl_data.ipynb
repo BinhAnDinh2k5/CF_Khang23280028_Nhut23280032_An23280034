{
 "cells": [
  {
   "cell_type": "code",
   "execution_count": 1,
   "id": "ecd0aae4",
   "metadata": {},
   "outputs": [],
   "source": [
    "import yfinance as yf"
   ]
  },
  {
   "cell_type": "code",
   "execution_count": 2,
   "id": "e589685d",
   "metadata": {},
   "outputs": [],
   "source": [
    "\n",
    "\n",
    "ticker_symbol_list = ['META', 'MSFT', 'TSLA', 'UNH', 'AMZN', 'V', 'COIN', 'ORCL', 'TSM', 'MU']\n",
    "\n",
    "for ticker_symbol in ticker_symbol_list:\n",
    "    ticker = yf.Ticker(ticker_symbol)\n",
    "\n",
    "    # Lấy dữ liệu từ quá khứ đến ngày 2025-10-11 \n",
    "    historical_data = ticker.history(end=\"2025-10-11\", period=\"10y\")\n",
    "\n",
    "    # Lưu file CSV\n",
    "    historical_data.to_csv(\n",
    "        f'C:\\\\Users\\\\Dinh Binh An\\\\OneDrive\\\\Dai_hoc\\\\toan_tai_chinh\\\\thuc_hanh\\\\lab1\\\\Data\\\\{ticker_symbol}.csv'\n",
    "    )\n"
   ]
  },
  {
   "cell_type": "code",
   "execution_count": null,
   "id": "9b36a43a",
   "metadata": {},
   "outputs": [],
   "source": []
  }
 ],
 "metadata": {
  "kernelspec": {
   "display_name": "Python 3 (ipykernel)",
   "language": "python",
   "name": "python3"
  },
  "language_info": {
   "codemirror_mode": {
    "name": "ipython",
    "version": 3
   },
   "file_extension": ".py",
   "mimetype": "text/x-python",
   "name": "python",
   "nbconvert_exporter": "python",
   "pygments_lexer": "ipython3",
   "version": "3.13.7"
  }
 },
 "nbformat": 4,
 "nbformat_minor": 5
}
